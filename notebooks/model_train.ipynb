{
 "cells": [
  {
   "cell_type": "markdown",
   "id": "72b45a7f",
   "metadata": {},
   "source": [
    "# Model Training"
   ]
  },
  {
   "cell_type": "markdown",
   "id": "6ac3b65b",
   "metadata": {},
   "source": [
    "## Packages and Data"
   ]
  },
  {
   "cell_type": "code",
   "execution_count": 130,
   "id": "7879534f",
   "metadata": {},
   "outputs": [],
   "source": [
    "import pandas as pd\n",
    "import sklearn\n",
    "\n",
    "from joblib import dump, load\n",
    "\n",
    "from sklearn import ensemble\n",
    "from sklearn.model_selection import train_test_split"
   ]
  },
  {
   "cell_type": "code",
   "execution_count": 28,
   "id": "43dd9147",
   "metadata": {},
   "outputs": [],
   "source": [
    "train = pd.read_csv(\"../data/train.csv\")\n",
    "X = train.loc[:, train.columns != 'SalePrice']\n",
    "y = train[['SalePrice']]"
   ]
  },
  {
   "cell_type": "code",
   "execution_count": 60,
   "id": "5b36ba5f",
   "metadata": {},
   "outputs": [],
   "source": [
    "X_train, X_test, y_train, y_test = train_test_split(X, y, test_size=0.2, random_state=56)"
   ]
  },
  {
   "cell_type": "code",
   "execution_count": 61,
   "id": "c0f84b17",
   "metadata": {},
   "outputs": [
    {
     "data": {
      "text/plain": [
       "(Index(['Id', 'MSSubClass', 'MSZoning', 'LotFrontage', 'LotArea', 'Street',\n",
       "        'Alley', 'LotShape', 'LandContour', 'Utilities', 'LotConfig',\n",
       "        'LandSlope', 'Neighborhood', 'Condition1', 'Condition2', 'BldgType',\n",
       "        'HouseStyle', 'OverallQual', 'OverallCond', 'YearBuilt', 'YearRemodAdd',\n",
       "        'RoofStyle', 'RoofMatl', 'Exterior1st', 'Exterior2nd', 'MasVnrType',\n",
       "        'MasVnrArea', 'ExterQual', 'ExterCond', 'Foundation', 'BsmtQual',\n",
       "        'BsmtCond', 'BsmtExposure', 'BsmtFinType1', 'BsmtFinSF1',\n",
       "        'BsmtFinType2', 'BsmtFinSF2', 'BsmtUnfSF', 'TotalBsmtSF', 'Heating',\n",
       "        'HeatingQC', 'CentralAir', 'Electrical', '1stFlrSF', '2ndFlrSF',\n",
       "        'LowQualFinSF', 'GrLivArea', 'BsmtFullBath', 'BsmtHalfBath', 'FullBath',\n",
       "        'HalfBath', 'BedroomAbvGr', 'KitchenAbvGr', 'KitchenQual',\n",
       "        'TotRmsAbvGrd', 'Functional', 'Fireplaces', 'FireplaceQu', 'GarageType',\n",
       "        'GarageYrBlt', 'GarageFinish', 'GarageCars', 'GarageArea', 'GarageQual',\n",
       "        'GarageCond', 'PavedDrive', 'WoodDeckSF', 'OpenPorchSF',\n",
       "        'EnclosedPorch', '3SsnPorch', 'ScreenPorch', 'PoolArea', 'PoolQC',\n",
       "        'Fence', 'MiscFeature', 'MiscVal', 'MoSold', 'YrSold', 'SaleType',\n",
       "        'SaleCondition'],\n",
       "       dtype='object'),\n",
       " Index(['SalePrice'], dtype='object'))"
      ]
     },
     "execution_count": 61,
     "metadata": {},
     "output_type": "execute_result"
    }
   ],
   "source": [
    "X.columns, y.columns"
   ]
  },
  {
   "cell_type": "markdown",
   "id": "8a538ee9",
   "metadata": {},
   "source": [
    "## Train Model"
   ]
  },
  {
   "cell_type": "code",
   "execution_count": 112,
   "id": "ec370bbb",
   "metadata": {},
   "outputs": [],
   "source": [
    "var_list = [\"OverallQual\", \"OverallCond\", \"TotalBsmtSF\", \"FullBath\"]"
   ]
  },
  {
   "cell_type": "code",
   "execution_count": 113,
   "id": "04e0fab8",
   "metadata": {},
   "outputs": [],
   "source": [
    "model = ensemble.GradientBoostingRegressor(n_estimators = 200,\n",
    "                                           max_depth = 5,\n",
    "                                           learning_rate = 0.05,\n",
    "                                           random_state = 56)"
   ]
  },
  {
   "cell_type": "code",
   "execution_count": 116,
   "id": "0d221a6f",
   "metadata": {
    "scrolled": true
   },
   "outputs": [
    {
     "name": "stderr",
     "output_type": "stream",
     "text": [
      "/opt/anaconda3/envs/deploy/lib/python3.8/site-packages/sklearn/ensemble/_gb.py:494: DataConversionWarning: A column-vector y was passed when a 1d array was expected. Please change the shape of y to (n_samples, ), for example using ravel().\n",
      "  y = column_or_1d(y, warn=True)\n"
     ]
    },
    {
     "data": {
      "text/plain": [
       "GradientBoostingRegressor(learning_rate=0.05, max_depth=5, n_estimators=200,\n",
       "                          random_state=56)"
      ]
     },
     "execution_count": 116,
     "metadata": {},
     "output_type": "execute_result"
    }
   ],
   "source": [
    "model.fit(X_train[var_list], y_train)"
   ]
  },
  {
   "cell_type": "markdown",
   "id": "06fdcf74",
   "metadata": {},
   "source": [
    "## Evaluate Model"
   ]
  },
  {
   "cell_type": "code",
   "execution_count": 120,
   "id": "b63f4813",
   "metadata": {},
   "outputs": [
    {
     "data": {
      "text/plain": [
       "0.6700836441548867"
      ]
     },
     "execution_count": 120,
     "metadata": {},
     "output_type": "execute_result"
    }
   ],
   "source": [
    "model.score(X_test[var_list], y_test)"
   ]
  },
  {
   "cell_type": "markdown",
   "id": "2a6d3b64",
   "metadata": {},
   "source": [
    "## Write Model Object"
   ]
  },
  {
   "cell_type": "code",
   "execution_count": 131,
   "id": "6a42424d",
   "metadata": {},
   "outputs": [
    {
     "data": {
      "text/plain": [
       "['../models/var_list.joblib']"
      ]
     },
     "execution_count": 131,
     "metadata": {},
     "output_type": "execute_result"
    }
   ],
   "source": [
    "# Write out the model itself, along with the variable list\n",
    "dump(model, \"../models/model.joblib\")\n",
    "dump(var_list, \"../models/var_list.joblib\")"
   ]
  },
  {
   "cell_type": "code",
   "execution_count": 142,
   "id": "78b631b9",
   "metadata": {},
   "outputs": [],
   "source": [
    "# Test reading in the serialized objects\n",
    "#model2 = load(\"../models/model.joblib\")\n",
    "#var_list2 = load(\"../models/var_list.joblib\")"
   ]
  }
 ],
 "metadata": {
  "kernelspec": {
   "display_name": "Python 3 (ipykernel)",
   "language": "python",
   "name": "python3"
  },
  "language_info": {
   "codemirror_mode": {
    "name": "ipython",
    "version": 3
   },
   "file_extension": ".py",
   "mimetype": "text/x-python",
   "name": "python",
   "nbconvert_exporter": "python",
   "pygments_lexer": "ipython3",
   "version": "3.8.12"
  },
  "toc": {
   "base_numbering": 1,
   "nav_menu": {},
   "number_sections": true,
   "sideBar": true,
   "skip_h1_title": false,
   "title_cell": "Table of Contents",
   "title_sidebar": "Contents",
   "toc_cell": false,
   "toc_position": {},
   "toc_section_display": true,
   "toc_window_display": false
  }
 },
 "nbformat": 4,
 "nbformat_minor": 5
}
